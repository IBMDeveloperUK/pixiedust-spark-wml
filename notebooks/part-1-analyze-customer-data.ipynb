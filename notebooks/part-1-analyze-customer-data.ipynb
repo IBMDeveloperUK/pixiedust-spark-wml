{
 "cells": [
  {
   "cell_type": "markdown",
   "metadata": {},
   "source": [
    "# Data analysis with Python, Apache Spark,  and PixieDust\n",
    "***\n",
    "\n",
    "In this notebook you will:\n",
    "\n",
    "* analyze customer demographics, such as, age, gender, income, and location\n",
    "* combine that data with sales data to examine trends for product categories, transaction types, and product popularity\n",
    "* load data from GitHub as well as from a public open data set\n",
    "* cleanse, shape, and enrich the data, and then visualize the data with the PixieDust library\n",
    "\n",
    "Don't worry! PixieDust charts don't require coding. \n",
    "\n",
    "By the end of the notebook, you will understand how to combine data to gain insights about which customers you might target to increase sales."
   ]
  },
  {
   "cell_type": "markdown",
   "metadata": {},
   "source": [
    "<a id=\"toc\"></a>\n",
    "## Table of contents\n",
    "\n",
    "#### [Setup](#Setup)\n",
    "[Load data into the notebook](#Load-data-into-the-notebook)\n",
    "#### [Explore customer demographics](#part1)\n",
    "[Prepare the customer data set](#Prepare-the-customer-data-set)<br>\n",
    "[Visualize customer demographics and locations](#Visualize-customer-demographics-and-locations)<br>\n",
    "\n",
    "#### [Summary and next steps](#summary)"
   ]
  },
  {
   "cell_type": "markdown",
   "metadata": {},
   "source": [
    "## Setup\n",
    "You need to import libraries and load the customer data into this notebook."
   ]
  },
  {
   "cell_type": "markdown",
   "metadata": {},
   "source": [
    "Import the necessary libraries:"
   ]
  },
  {
   "cell_type": "code",
   "execution_count": null,
   "metadata": {},
   "outputs": [],
   "source": [
    "import pixiedust\n",
    "import pyspark.sql.functions as func\n",
    "import pyspark.sql.types as types\n",
    "import re\n",
    "import json\n",
    "import os\n",
    "import requests  "
   ]
  },
  {
   "cell_type": "markdown",
   "metadata": {},
   "source": [
    "**If you get any errors or if a package is out of date:**\n",
    "\n",
    "* uncomment the lines in the next cell (remove the `#`)\n",
    "* restart the kernel (from the Kernel menu at the top of the notebook)\n",
    "* reload the browser page\n",
    "* run the cell above, and continue with the notebook"
   ]
  },
  {
   "cell_type": "code",
   "execution_count": null,
   "metadata": {},
   "outputs": [],
   "source": [
    "#!pip install pixiedust --upgrade"
   ]
  },
  {
   "cell_type": "markdown",
   "metadata": {},
   "source": [
    "### Load data into the notebook\n",
    "\n",
    "The data file contains both the customer demographic data that you'll analyzed in Part 1, and the sales transaction data for Part 2.\n",
    "\n",
    "With `pixiedust.sampleData()` you can load csv data from any url. The below loads the data in a Spark DataFrame. \n",
    "\n",
    "> In case you wondered, this works with Pandas as well, just add `forcePandas = True` to load data in a Pandas DataFrame. *But do not add this to the below cell as in this notebook you will use Spark.*"
   ]
  },
  {
   "cell_type": "code",
   "execution_count": null,
   "metadata": {},
   "outputs": [],
   "source": [
    "raw_df = pixiedust.sampleData('https://raw.githubusercontent.com/IBMCodeLondon/localcart-workshop/master/data/customers_orders1_opt.csv')"
   ]
  },
  {
   "cell_type": "code",
   "execution_count": null,
   "metadata": {},
   "outputs": [],
   "source": [
    "raw_df"
   ]
  },
  {
   "cell_type": "markdown",
   "metadata": {},
   "source": [
    "[Back to Table of Contents](#toc)\n",
    "<a id=\"part1\"></a>\n",
    "# Explore customer demographics \n",
    "In this part of the notebook, you will prepare the customer data and then start learning about your customers by creating multiple charts and maps. "
   ]
  },
  {
   "cell_type": "markdown",
   "metadata": {},
   "source": [
    "## Prepare the customer data set\n",
    "Create a new Spark DataFrame with only the data you need and then cleanse and enrich the data.\n",
    "\n",
    "Extract the columns that you are interested in, remove duplicate customers, and add a column for aggregations:"
   ]
  },
  {
   "cell_type": "code",
   "execution_count": null,
   "metadata": {},
   "outputs": [],
   "source": [
    "# Extract the customer information from the data set\n",
    "customer_df = raw_df.select(\"CUST_ID\", \n",
    "                            \"CUSTNAME\", \n",
    "                            \"ADDRESS1\", \n",
    "                            \"ADDRESS2\", \n",
    "                            \"CITY\", \n",
    "                            \"POSTAL_CODE\", \n",
    "                            \"POSTAL_CODE_PLUS4\", \n",
    "                            \"STATE\", \n",
    "                            \"COUNTRY_CODE\", \n",
    "                            \"EMAIL_ADDRESS\", \n",
    "                            \"PHONE_NUMBER\",\n",
    "                            \"AGE\",\n",
    "                            \"GenderCode\",\n",
    "                            \"GENERATION\",\n",
    "                            \"NATIONALITY\", \n",
    "                            \"NATIONAL_ID\", \n",
    "                            \"DRIVER_LICENSE\").dropDuplicates()\n",
    "\n",
    "customer_df.printSchema()"
   ]
  },
  {
   "cell_type": "markdown",
   "metadata": {},
   "source": [
    "Notice that the data type of the AGE column is currently a string. Convert the AGE column to a numeric data type so you can run calculations on customer age."
   ]
  },
  {
   "cell_type": "code",
   "execution_count": null,
   "metadata": {},
   "outputs": [],
   "source": [
    "# ---------------------------------------\n",
    "# Cleanse age (enforce numeric data type) \n",
    "# ---------------------------------------\n",
    "\n",
    "def getNumericVal(col):\n",
    "    \"\"\"\n",
    "    input: pyspark.sql.types.Column\n",
    "    output: the numeric value represented by col or None\n",
    "    \"\"\"\n",
    "    try:\n",
    "      return int(col)\n",
    "    except ValueError:\n",
    "      # age-33\n",
    "      match = re.match('^age\\-(\\d+)$', col)\n",
    "      if match:\n",
    "        try:\n",
    "          return int(match.group(1))\n",
    "        except ValueError:    \n",
    "          return None\n",
    "      return None  \n",
    "\n",
    "toNumericValUDF = func.udf(lambda c: getNumericVal(c), types.IntegerType())\n",
    "customer_df = customer_df.withColumn(\"AGE\", toNumericValUDF(customer_df[\"AGE\"]))\n",
    "customer_df"
   ]
  },
  {
   "cell_type": "code",
   "execution_count": null,
   "metadata": {},
   "outputs": [],
   "source": [
    "customer_df.show(5)"
   ]
  },
  {
   "cell_type": "markdown",
   "metadata": {},
   "source": [
    "The GenderCode column contains salutations instead of gender values. Derive the gender information for each customer based on the salutation and rename the GenderCode column to GENDER."
   ]
  },
  {
   "cell_type": "code",
   "execution_count": null,
   "metadata": {},
   "outputs": [],
   "source": [
    "# ------------------------------\n",
    "# Derive gender from salutation\n",
    "# ------------------------------\n",
    "def deriveGender(col):\n",
    "    \"\"\" input: pyspark.sql.types.Column\n",
    "        output: \"male\", \"female\" or \"unknown\"\n",
    "    \"\"\"    \n",
    "    if col in ['Mr.', 'Master.']:\n",
    "        return 'male'\n",
    "    elif col in ['Mrs.', 'Miss.']:\n",
    "        return 'female'\n",
    "    else:\n",
    "        return 'unknown';\n",
    "    \n",
    "deriveGenderUDF = func.udf(lambda c: deriveGender(c), types.StringType())\n",
    "customer_df = customer_df.withColumn(\"GENDER\", deriveGenderUDF(customer_df[\"GenderCode\"]))\n",
    "customer_df.cache()"
   ]
  },
  {
   "cell_type": "markdown",
   "metadata": {},
   "source": [
    "## Explore the customer data set\n",
    "\n",
    "Instead of exploring the data with `.printSchema()` and `.show()` you can quickly explore data sets using PixieDust'. Invoke the `display()` command and click the table icon to review the schema and preview the data. Customize the options to display only a subset of the fields or rows or apply a filter (by clicking the funnel icon)."
   ]
  },
  {
   "cell_type": "code",
   "execution_count": null,
   "metadata": {
    "pixiedust": {
     "displayParams": {
      "filter": "{\"regex\": \"false\", \"field\": \"AGE\", \"case_matter\": \"false\", \"value\": \"30\", \"constraint\": \"None\"}",
      "handlerId": "tableView",
      "no_margin": "true",
      "rowCount": "200"
     }
    }
   },
   "outputs": [],
   "source": [
    "display(customer_df)"
   ]
  },
  {
   "cell_type": "markdown",
   "metadata": {},
   "source": [
    "[Back to Table of Contents](#toc)\n",
    "## Visualize customer demographics and locations\n",
    "\n",
    "Now you are ready to explore the customer base. Using simple charts, you can quickly see these characteristics:\n",
    " * Customer demographics (gender and age)\n",
    " * Customer locations (city, state, and country)\n",
    "\n",
    "You will create charts with the PixieDust library:\n",
    "\n",
    " - [View customers by gender in a pie chart](#View-customers-by-gender-in-a-pie-chart)\n",
    " - [View customers by generation in a bar chart](#View-customers-by-generation-in-a-bar-chart)\n",
    " - [View customers by age in a histogram chart](#View-customers-by-age-in-a-histogram-chart)\n",
    " - [View specific information with a filter function](#View-specific-information-with-a-filter-function)\n",
    " - [View customer density by location with a map](#View-customer-density-by-location-with-a-map)"
   ]
  },
  {
   "cell_type": "markdown",
   "metadata": {},
   "source": [
    "### View customers by gender in a pie chart\n",
    "\n",
    "Run the `display()` command and then configure the graph to show the percentages of male and female customers:\n",
    "\n",
    "1. Run the next cell. The PixieDust interactive widget appears.  \n",
    "1. Click the chart button and choose **Pie Chart**. The chart options tool appears.\n",
    "1. In the chart options, drag `GENDER` into the **Keys** box. \n",
    "1. In the **Aggregation** field, choose **COUNT**. \n",
    "1. Increase the **# of Rows to Display** to a very large number to display all data.\n",
    "1. Click **OK**. The pie chart appears.\n",
    "\n",
    "If you want to make further changes, click **Options** to return to the chart options tool."
   ]
  },
  {
   "cell_type": "code",
   "execution_count": null,
   "metadata": {
    "pixiedust": {
     "displayParams": {
      "aggregation": "COUNT",
      "handlerId": "pieChart",
      "keyFields": "GENDER",
      "rowCount": "10000000"
     }
    }
   },
   "outputs": [],
   "source": [
    "display(customer_df)"
   ]
  },
  {
   "cell_type": "markdown",
   "metadata": {},
   "source": [
    "[Back to Table of Contents](#toc)\n",
    "### View customers by generation in a bar chart\n",
    "Look at how many customers you have per \"generation.\"\n",
    "\n",
    "Run the next cell and configure the graph: \n",
    "1. Choose **Bar Chart** as the chart type and configure the chart options as instructed below.\n",
    "2. Put `GENERATION` into the **Keys** box.\n",
    "3. Set **aggregation** to `COUNT`.\n",
    "1. Increase the **# of Rows to Display** to a very large number to display all data.\n",
    "4. Click **OK**\n",
    "4. Change the **Renderer** at the top right of the chart to explore different visualisations.  \n",
    "4. You can use clustering to group customers, for example by geographic location. To group generations by country, select `COUNTRY_CODE` from the **Cluster by** list from the menu on the left of the chart. "
   ]
  },
  {
   "cell_type": "code",
   "execution_count": null,
   "metadata": {
    "pixiedust": {
     "displayParams": {
      "aggregation": "COUNT",
      "clusterby": "COUNTRY_CODE",
      "handlerId": "barChart",
      "keyFields": "GENERATION",
      "rendererId": "bokeh",
      "rowCount": "10000000"
     }
    }
   },
   "outputs": [],
   "source": [
    "display(customer_df)"
   ]
  },
  {
   "cell_type": "markdown",
   "metadata": {},
   "source": [
    "[Back to Table of Contents](#toc)\n",
    "### View customers by age in a histogram chart\n",
    "A generation is a broad age range. You can look at a smaller age range with a histogram chart. A histogram is like a bar chart except each bar represents a range of numbers, called a bin. You can customize the size of the age range by adjusting the bin size. The more bins you specify, the smaller the age range.\n",
    "\n",
    "Run the next cell and configure the graph:\n",
    "1. Choose **Histogram** as the chart type. \n",
    "2. Put `AGE` into the **Values** box.\n",
    "1. Increase the **# of Rows to Display** to a very large number to display all data.\n",
    "1. Click **OK**.\n",
    "3. Use the **Bin count** slider to specify the number of the bins. Try starting with 40."
   ]
  },
  {
   "cell_type": "code",
   "execution_count": null,
   "metadata": {
    "pixiedust": {
     "displayParams": {
      "chartsize": "66",
      "handlerId": "histogram",
      "rendererId": "bokeh",
      "rowCount": "1000000",
      "valueFields": "AGE"
     }
    }
   },
   "outputs": [],
   "source": [
    "display(customer_df)"
   ]
  },
  {
   "cell_type": "markdown",
   "metadata": {},
   "source": [
    "[Back to Table of Contents](#toc)"
   ]
  },
  {
   "cell_type": "markdown",
   "metadata": {},
   "source": [
    "PixieDust supports basic filtering to make it easy to analyse data subsets. For example, to view the age distribution for a specific gender configure the chart as follows:\n",
    "\n",
    "  1. Choose `Histogram` as the chart type.\n",
    "  2. Put `AGE` into the **Values** box and click OK.\n",
    "  3. Click the filter button (looking like a funnel), and choose **GENDER** as field and `female` as value, and click `Apply`.\n",
    "  \n",
    "The filter is only applied to the working data set and does not modify the input `customer_df`.\n"
   ]
  },
  {
   "cell_type": "code",
   "execution_count": null,
   "metadata": {
    "pixiedust": {
     "displayParams": {
      "filter": "{\"field\": \"GENDER\", \"constraint\": \"None\", \"value\": \"female\", \"case_matter\": \"false\", \"regex\": \"false\"}",
      "handlerId": "histogram",
      "no_margin": "true",
      "valueFields": "AGE"
     }
    }
   },
   "outputs": [],
   "source": [
    "display(customer_df)"
   ]
  },
  {
   "cell_type": "markdown",
   "metadata": {},
   "source": [
    "You can also filter by location. For example, the following command creates a new DataFrame that filters for customers from the USA:"
   ]
  },
  {
   "cell_type": "code",
   "execution_count": null,
   "metadata": {},
   "outputs": [],
   "source": [
    "condition = \"COUNTRY_CODE = 'US'\"\n",
    "us_customer_df = customer_df.filter(condition)"
   ]
  },
  {
   "cell_type": "markdown",
   "metadata": {},
   "source": [
    "You can pivot your analysis perspective based on aspects that are of interest to you by choosing different keys and clusters.\n",
    "\n",
    "Create a bar chart and cluster the data.\n",
    "\n",
    "Run the next cell and configure the graph:\n",
    "1. Choose **Bar chart** as the chart type.\n",
    "2. Put `COUNTRY_CODE` into the **Keys** box.\n",
    "4. Set Aggregation to **COUNT**.\n",
    "5. Click **OK**. The chart displays the number of US customers.\n",
    "6. From the **Cluster By** list, choose **GENDER**. The chart shows the number of customers by gender."
   ]
  },
  {
   "cell_type": "code",
   "execution_count": null,
   "metadata": {
    "pixiedust": {
     "displayParams": {
      "aggregation": "COUNT",
      "clusterby": "GENDER",
      "handlerId": "barChart",
      "keyFields": "COUNTRY_CODE"
     }
    }
   },
   "outputs": [],
   "source": [
    "display(us_customer_df)"
   ]
  },
  {
   "cell_type": "markdown",
   "metadata": {},
   "source": [
    "Now try to cluster the customers by state.\n",
    "\n",
    "A bar chart isn't the best way to show geographic location!"
   ]
  },
  {
   "cell_type": "markdown",
   "metadata": {},
   "source": [
    "[Back to Table of Contents](#toc)\n",
    "### View customer density by location with a map\n",
    "Maps are a much better way to view location data than other chart types. \n",
    "\n",
    "Visualize customer density by US state with a map.\n",
    "\n",
    "Run the next cell and configure the graph:\n",
    "1. Choose **Map** as the chart type.\n",
    "2. Put `STATE` into the **Keys** box.\n",
    "4. Set Aggregation to **COUNT**.\n",
    "5. Click **OK**. The map displays the number of US customers.\n",
    "6. From the **Renderer** list, choose **brunel**.\n",
    "\n",
    "    > PixieDust supports three map renderers: brunel, [mapbox](https://www.mapbox.com/) and Google. Note that the Mapbox renderer and the Google renderer require an API key or access token and supported features vary by renderer.\n",
    "\n",
    "7. You can explore more about customers in each state by changing the aggregation method, for example look at customer age ranges (avg, minimum, and maximum) by state. Simply Change the aggregation function to `AVG`, `MIN`, or `MAX` and choose `AGE` as value. \n"
   ]
  },
  {
   "cell_type": "code",
   "execution_count": null,
   "metadata": {
    "pixiedust": {
     "displayParams": {
      "handlerId": "mapView",
      "keyFields": "STATE",
      "mapboxtoken": "pk.eyJ1IjoibWFwYm94IiwiYSI6ImNpejY4M29iazA2Z2gycXA4N2pmbDZmangifQ.-g_vE53SD2WrJ6tFX7QHmA",
      "valueFields": "CUST_ID"
     }
    }
   },
   "outputs": [],
   "source": [
    "display(us_customer_df)"
   ]
  },
  {
   "cell_type": "markdown",
   "metadata": {},
   "source": [
    "[Back to Table of Contents](#toc)\n",
    "### View data using matplotlib\n",
    "\n",
    "PixieDust is a great tool for quick visualisations, but using the Python visualisation packages directly gives you more control over the charts you create. Below is a simple example of what you can do with matplotlib.\n",
    "    \n",
    "    "
   ]
  },
  {
   "cell_type": "code",
   "execution_count": null,
   "metadata": {},
   "outputs": [],
   "source": [
    "# without this the plots would be opened  in a new window (not browser)\n",
    "# with this instruction plots will be included in the notebook\n",
    "%matplotlib inline\n",
    "\n",
    "import matplotlib.pyplot as plt"
   ]
  },
  {
   "cell_type": "markdown",
   "metadata": {},
   "source": [
    "Internally PixieDust converts the data to a Pandas DataFrame as this is what most visualisation packages use. So let's do the same here:"
   ]
  },
  {
   "cell_type": "code",
   "execution_count": null,
   "metadata": {},
   "outputs": [],
   "source": [
    "df = customer_df.toPandas()\n",
    "df.head()"
   ]
  },
  {
   "cell_type": "markdown",
   "metadata": {},
   "source": [
    "The default plot is a line chart:"
   ]
  },
  {
   "cell_type": "code",
   "execution_count": null,
   "metadata": {},
   "outputs": [],
   "source": [
    "df['AGE'].plot();"
   ]
  },
  {
   "cell_type": "markdown",
   "metadata": {},
   "source": [
    "To create a plot that makes more sense for this data have a look at the [documentation](https://pandas.pydata.org/pandas-docs/stable/user_guide/visualization.html) for all options. A histogram might work better. Go ahead and change the number of bins until you think the number of bins looks right:"
   ]
  },
  {
   "cell_type": "code",
   "execution_count": null,
   "metadata": {},
   "outputs": [],
   "source": [
    "df['AGE'].plot.hist(bins=8);"
   ]
  },
  {
   "cell_type": "markdown",
   "metadata": {},
   "source": [
    "Change the size of the plot with `figsize`:"
   ]
  },
  {
   "cell_type": "code",
   "execution_count": null,
   "metadata": {},
   "outputs": [],
   "source": [
    "df['AGE'].plot.hist(bins=15,figsize=(10,5));"
   ]
  },
  {
   "cell_type": "markdown",
   "metadata": {},
   "source": [
    "The below plot shows only the womens age:"
   ]
  },
  {
   "cell_type": "code",
   "execution_count": null,
   "metadata": {},
   "outputs": [],
   "source": [
    "df['AGE'][df['GENDER']=='female'].plot.hist(bins=15,figsize=(10,5));"
   ]
  },
  {
   "cell_type": "markdown",
   "metadata": {},
   "source": [
    "To add the men, simply repeat the plot command with a different selection of the data:"
   ]
  },
  {
   "cell_type": "code",
   "execution_count": null,
   "metadata": {},
   "outputs": [],
   "source": [
    "df['AGE'][df['GENDER']=='female'].plot.hist(bins=15,figsize=(10,5));\n",
    "df['AGE'][df['GENDER']=='male'].plot.hist(bins=15,figsize=(10,5));"
   ]
  },
  {
   "cell_type": "markdown",
   "metadata": {},
   "source": [
    "The above plot is difficult to read as the histograms overlap. You can fix this by changing the colours and making them transparant. To add a legend each histogram needs to be assigned to an object `ax` that is used to create a legend:"
   ]
  },
  {
   "cell_type": "code",
   "execution_count": null,
   "metadata": {},
   "outputs": [],
   "source": [
    "ax = df['AGE'][df['GENDER']=='female'].plot.hist(\n",
    "    bins=15,figsize=(10,5),alpha=0.5,color='#1A4D3B');\n",
    "ax = df['AGE'][df['GENDER']=='male'].plot.hist(\n",
    "    bins=15,figsize=(10,5),alpha=0.5,color='#4D1A39');\n",
    "ax.legend(['female','male']);"
   ]
  },
  {
   "cell_type": "markdown",
   "metadata": {},
   "source": [
    "It is easy to change pretty much everything as in the below code. This was the ugliest I could come up with. Can you make it worse?"
   ]
  },
  {
   "cell_type": "code",
   "execution_count": null,
   "metadata": {},
   "outputs": [],
   "source": [
    "df['AGE'].plot.hist(\n",
    "    bins=15, \n",
    "    title=\"Age\",\n",
    "    legend=False,\n",
    "    fontsize=14,\n",
    "    grid=False,\n",
    "    linestyle='--',\n",
    "    edgecolor='black',\n",
    "    color='darkred',\n",
    "    linewidth=3);"
   ]
  },
  {
   "cell_type": "markdown",
   "metadata": {},
   "source": [
    "You can use `groupby()` in combination with a bar plot to visualize average age by country:"
   ]
  },
  {
   "cell_type": "code",
   "execution_count": null,
   "metadata": {},
   "outputs": [],
   "source": [
    "country = df['AGE'].groupby(df['COUNTRY_CODE']).mean()\n",
    "ax=country.plot.bar();\n",
    "ax.set_ylabel('Age');"
   ]
  },
  {
   "cell_type": "markdown",
   "metadata": {},
   "source": [
    "[Back to Table of Contents](#toc)\n"
   ]
  },
  {
   "cell_type": "markdown",
   "metadata": {
    "collapsed": true
   },
   "source": [
    "Copyright © 2017, 2018 IBM. This notebook and its source code are released under the terms of the MIT License."
   ]
  }
 ],
 "metadata": {
  "kernelspec": {
   "display_name": "Python 3.6 with Spark",
   "language": "python3",
   "name": "python36"
  },
  "language_info": {
   "codemirror_mode": {
    "name": "ipython",
    "version": 3
   },
   "file_extension": ".py",
   "mimetype": "text/x-python",
   "name": "python",
   "nbconvert_exporter": "python",
   "pygments_lexer": "ipython3",
   "version": "3.6.8"
  }
 },
 "nbformat": 4,
 "nbformat_minor": 1
}
